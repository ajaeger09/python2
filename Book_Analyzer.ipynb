{
 "cells": [
  {
   "cell_type": "markdown",
   "id": "86671933-cff9-44fd-b7a1-88a05eb2cef3",
   "metadata": {},
   "source": [
    "# this program analyzes the contents of a book and provides several reports to the user."
   ]
  },
  {
   "cell_type": "raw",
   "id": "8ab92913-cd15-4245-9a8f-6ce1bc4f2889",
   "metadata": {},
   "source": [
    "TODO:\n",
    "    \n",
    "[1] Testing: Test the program with different input files downloaded from https://www.gutenberg.org/\n",
    "        \n",
    "[2] Enhancement: How can you make the program generic \n",
    "    so that input file name is NOT hard coded.\n",
    "    \n",
    "    We have to provide an option to specify the input file. \n",
    "    (Option 13: Quit; \n",
    "    Option 12: Specify the input file)\n",
    "    If the user doesn't specify the input file, the default is \"book1.txt\"\n",
    "    \n",
    "[3] Fix the following Bugs:\n",
    "    \n",
    "1. We are splitting the sentence by \".\", but things like Dr., Mr., Ms., Mrs., will get split. [2]\n",
    "2. Returning dicionary keys but should be returning list [6] \n",
    "3. Lost empty lines, spaces, punctuation [8] \n",
    "4. output is showing the newline characters and they need to be removed [10] \n",
    "5. We are getting an empty sentence at the end that needs to be removed [3]\n",
    "6. Getting UTF-8, charmap errors in the reverse method [8]"
   ]
  },
  {
   "cell_type": "markdown",
   "id": "a806c51f-1b6c-4e03-a709-7c7d4efea391",
   "metadata": {},
   "source": [
    "### get_word_list_from_file is a helper method for returning the word list from the given file"
   ]
  },
  {
   "cell_type": "code",
   "execution_count": 1,
   "id": "c190ba10-0213-4602-99f0-6c2299672845",
   "metadata": {},
   "outputs": [],
   "source": [
    "def get_word_list_from_file(file_name = 'book1.txt'):\n",
    "    book_file = open(file_name, \"r\", encoding='utf-8')\n",
    "    book_contents = book_file.read()\n",
    "    word_list = book_contents.split()\n",
    "    return word_list"
   ]
  },
  {
   "cell_type": "code",
   "execution_count": 2,
   "id": "bd5c9edd-44da-4cdb-bbfe-f6f9c77d4b9d",
   "metadata": {},
   "outputs": [],
   "source": [
    "def get_sentence_list_from_file(file_name = 'book1.txt'):\n",
    "    book_file = open(file_name, \"r\", encoding='utf-8')\n",
    "    book_contents = book_file.read()\n",
    "    sentence_list = book_contents.split(\".\")\n",
    "    return sentence_list"
   ]
  },
  {
   "cell_type": "code",
   "execution_count": 3,
   "id": "f72b5f03-b82d-49f4-b823-98ce35f07f86",
   "metadata": {},
   "outputs": [],
   "source": [
    "def reverse(s):\n",
    "    if len(s) == 0:\n",
    "        return s\n",
    "    else:\n",
    "        return reverse(s[1:]) + s[0]"
   ]
  },
  {
   "cell_type": "markdown",
   "id": "a3f0c5a6-bca8-402e-8f0c-dffc4a54337f",
   "metadata": {},
   "source": [
    "### get_top_ten_words() returns the top ten words by frequency"
   ]
  },
  {
   "cell_type": "code",
   "execution_count": 4,
   "id": "59a073ca-f1b3-4cf8-9511-ee570b2f5f89",
   "metadata": {},
   "outputs": [
    {
     "name": "stdout",
     "output_type": "stream",
     "text": [
      "['is', 'a', 'Python', 'for', '\\ufeffProgramming', 'in', 'python', 'fun.', 'Thinking', 'like']\n",
      "<class 'list'>\n"
     ]
    }
   ],
   "source": [
    "''' [1] get_top_ten_words\n",
    "This method takes in a file name.\n",
    "And it returns a list of top 10 most frequent words\n",
    "\n",
    "word_dict = { }  // create an empty dictionary\n",
    "We already have list of words (from question 5)\n",
    "Loop through each word in the list:\n",
    "    if word exists in word_dict:\n",
    "        // bump up the count/ value by 1\n",
    "    else: // if the word doesn't exist in the word_dict:\n",
    "        // add new key (word) to the dictionary and set the value as 1\n",
    "        \n",
    "Once we come out the loop, we will have a word_dict with \"word\" as the key and \"count\" as the value\n",
    "\n",
    "We can now answer question 1\n",
    "We just have to sort the dictionary and get the top 10 KEYS\n",
    "print(\" [1] What are the top 10 most frequent words in the book? \")\n",
    "'''\n",
    "from heapq import nlargest\n",
    "\n",
    "def get_top_ten_words():\n",
    "    \n",
    "    word_list = get_word_list_from_file()\n",
    "    \n",
    "    # //TODO Alex:\n",
    "    # // create an empty dictionary  (KEY = word, VALUE = count)\n",
    "    # for each word in the file name:\n",
    "        # // if the word is not in the dictionary, add it to the dictionary\n",
    "        # // if the word is IN the dictionary, increase the count of the word\n",
    "    # You now have a dictionary with all the words and their counts\n",
    "\n",
    "    # TODO Alex:\n",
    "    # Given a dictionary, how do you find out the top 10 values\n",
    "    # You may have to SORT a dictionary based on the value\n",
    "    # And get the first 10 KEYS (words).\n",
    "    # And append those words to word_list\n",
    "    \n",
    "    \n",
    "    #build dictionary\n",
    "    word_count_dict = {}\n",
    "    for i in word_list:\n",
    "        if i not in word_count_dict:\n",
    "            word_count_dict[i] = 1\n",
    "        else:\n",
    "            word_count_dict[i] += 1\n",
    "    \n",
    "    #print(word_count_dict)\n",
    "    \n",
    "    #get top ten words\n",
    "    top_ten_words = nlargest(10, word_count_dict, key = word_count_dict.get)\n",
    "    return top_ten_words\n",
    "\n",
    "\n",
    "#testing get_top_ten_words method\n",
    "top_ten_words = get_top_ten_words()\n",
    "print(top_ten_words)\n",
    "print(type(top_ten_words))"
   ]
  },
  {
   "cell_type": "markdown",
   "id": "ea1a4c8a-ef57-4b65-8b98-e61ac85177f4",
   "metadata": {},
   "source": [
    "### get_sentence_count() returns the number of sentences there are in the book"
   ]
  },
  {
   "cell_type": "code",
   "execution_count": 5,
   "id": "a9bef4f9-0c7f-4ae3-b193-4548436a7248",
   "metadata": {},
   "outputs": [
    {
     "name": "stdout",
     "output_type": "stream",
     "text": [
      "Number of sentences =  5\n"
     ]
    }
   ],
   "source": [
    "''' [2] get_sentence_count()\n",
    "This method takes in a file name and returns the number of sentences in that file\n",
    "'''\n",
    "def get_sentence_count():\n",
    "    # TODO Alex: Just count the number of periods to begin with\n",
    "    # TODO later: We can enhance our algorithm to handle some special cases. like Mr. Mrs. Dr.\n",
    "    \n",
    "    #read the file, creating a list of the words\n",
    "    sentence_list = get_sentence_list_from_file()\n",
    "    \n",
    "    sentence_count = len(sentence_list)\n",
    "    \n",
    "    return sentence_count\n",
    "\n",
    "#testing get_sentence_count method\n",
    "sentence_count = get_sentence_count()\n",
    "print('Number of sentences = ', sentence_count)"
   ]
  },
  {
   "cell_type": "markdown",
   "id": "918ae6cd-9d47-4c67-b3c9-6d75d701d124",
   "metadata": {},
   "source": [
    "### get_sentence_no_and_count_of_words() returns the amount of words in all the sentences"
   ]
  },
  {
   "cell_type": "code",
   "execution_count": 6,
   "id": "f35e064c-b8fe-4179-ba0a-141aa30aad87",
   "metadata": {},
   "outputs": [
    {
     "name": "stdout",
     "output_type": "stream",
     "text": [
      "[(1, 5), (2, 9), (3, 10), (4, 12), (5, 0)]\n"
     ]
    }
   ],
   "source": [
    "''' [3] get_sentence_no_and_count_of_words(file_name)\n",
    "Provide a table of \"sentence number\" and the \"count of words\" in that sentence?\n",
    "'''\n",
    "def get_sentence_no_and_count_of_words():\n",
    "    # this is a list of tuples.\n",
    "    # the first value in the tuple is sentence number\n",
    "    # the second value in the tuple is the word count in that sentence\n",
    "\n",
    "    sentence_word_count_list = []\n",
    "    sentence_list = get_sentence_list_from_file()\n",
    "    number = 1\n",
    "    #print(sentence_list)\n",
    "    #print(type(sentence_list))\n",
    "    #print(len(sentence_list))\n",
    "    sentence_word_count_list = []\n",
    "    \n",
    "    number_count_tuple = ()\n",
    "    \n",
    "    for i in sentence_list:\n",
    "        sentence_word_count = len(i.split())\n",
    "        '''number_count_tuple.append(sentence_number)\n",
    "        number_count_tuple.append(sentence_word_count)'''\n",
    "        sentence_word_count_list.append((number, sentence_word_count))\n",
    "        number += 1\n",
    "    \n",
    "    '''for i in number_count_tuple:\n",
    "        print(i)'''\n",
    "    # And for each sentence, count the number of words in that sentence\n",
    "    # then create a tuple and add that tuple to the stence_word_count_list\n",
    "    # sample output [(1,5), (2, 6), (3, 5), (4, 10)]\n",
    "    return sentence_word_count_list\n",
    "\n",
    "#call the method\n",
    "#bug: we are getting an empty sentence at the end that needs to be removed\n",
    "x = get_sentence_no_and_count_of_words()\n",
    "print(x)"
   ]
  },
  {
   "cell_type": "markdown",
   "id": "da8b6040-92c8-4509-a704-36934195e9e2",
   "metadata": {},
   "source": [
    "### get_word_count_of_sentence() returns the amount of words in a given sentence"
   ]
  },
  {
   "cell_type": "code",
   "execution_count": 7,
   "id": "9fbe5741-887f-4e1e-996b-1a2b864b0207",
   "metadata": {},
   "outputs": [
    {
     "name": "stdout",
     "output_type": "stream",
     "text": [
      "9\n"
     ]
    }
   ],
   "source": [
    "''' [4] get_word_count_of_sentence(file_name, n)\n",
    "How many words there in Nth sentence?\n",
    "'''\n",
    "def get_word_count_of_sentence(n):\n",
    "    sentence_word_count_list = get_sentence_no_and_count_of_words()\n",
    "    #print(type(sentence_word_count_list))\n",
    "    #print(sentence_word_count_list)\n",
    "\n",
    "    number_count_tuple = sentence_word_count_list[n-1]\n",
    "    #print(number_count_tuple)\n",
    "    #print(type(number_count_tuple))\n",
    "    word_count = number_count_tuple[1]\n",
    "    return word_count\n",
    "\n",
    "#test this method\n",
    "x = get_word_count_of_sentence(2)\n",
    "print(x)"
   ]
  },
  {
   "cell_type": "code",
   "execution_count": 8,
   "id": "b8b3d8e1-97e6-4ce0-8954-c7587b8976f1",
   "metadata": {},
   "outputs": [
    {
     "name": "stdout",
     "output_type": "stream",
     "text": [
      "Word count: 36\n"
     ]
    }
   ],
   "source": [
    "''' [5] get_word_count(file_name)\n",
    "What is the total number of words in the book?\n",
    "This method takes in a file name and returns the number of words in that file\n",
    "'''\n",
    "def get_word_count():\n",
    "\n",
    "    word_list = get_word_list_from_file()\n",
    "    #print(word_list)\n",
    "    #print(type(word_list))\n",
    "    count = len(word_list)\n",
    "    # we are printing the entire content\n",
    "    #print(book_contents)\n",
    "    # contents is a str type\n",
    "    #print(type(book_contents))\n",
    "    return count\n",
    "\n",
    "#test this method\n",
    "x = get_word_count()\n",
    "print('Word count: ' + str(x))"
   ]
  },
  {
   "cell_type": "markdown",
   "id": "a61169ac-6619-4f96-aee0-3ac25ac77b2b",
   "metadata": {},
   "source": [
    "### get_unique_words() returns all the unique words in the book"
   ]
  },
  {
   "cell_type": "code",
   "execution_count": 9,
   "id": "c5680070-b946-4648-915d-e0bfe404620f",
   "metadata": {},
   "outputs": [
    {
     "name": "stdout",
     "output_type": "stream",
     "text": [
      "the list of unique words =  dict_keys(['\\ufeffProgramming', 'in', 'python', 'is', 'fun.', 'Thinking', 'like', 'a', 'computer', 'scientist', 'involves', 'applying', 'the', 'logic.', 'Python', 'cool', 'as', 'first', 'programming', 'language', 'for', 'kids.', 'powerful', 'web', 'scraping,', 'data', 'science,', 'machine', 'learning', 'and', 'AI.'])\n"
     ]
    }
   ],
   "source": [
    "''' [6] get_unique_words(file_name)\n",
    "How many unique words are there in the book?\n",
    "'''\n",
    "# option 1: build a dictionary and return the KEYS\n",
    "# option 2: construct a set and keep adding the words to the set, and return the set\n",
    "def get_unique_words():\n",
    "    \n",
    "    #read the file, creating a list of the words\n",
    "    word_list = get_word_list_from_file()\n",
    "    \n",
    "    #build dictionary\n",
    "    word_count_dict = {}\n",
    "    for i in word_list:\n",
    "        if i not in word_count_dict:\n",
    "            word_count_dict[i] = 1\n",
    "            \n",
    "    #bug: returning dicionary keys but should be returning list\n",
    "    return word_count_dict.keys()\n",
    "\n",
    "#testing get_unique_words method\n",
    "unique_words = get_unique_words()\n",
    "print('the list of unique words = ', unique_words)"
   ]
  },
  {
   "cell_type": "markdown",
   "id": "f909f1cf-41cb-4191-846f-36778e49d186",
   "metadata": {},
   "source": [
    "### get_average_count_per_sentence() returns the average amount of words among every sentence"
   ]
  },
  {
   "cell_type": "code",
   "execution_count": 10,
   "id": "eb769670-492b-42d3-a3aa-a3e918121a4f",
   "metadata": {},
   "outputs": [
    {
     "name": "stdout",
     "output_type": "stream",
     "text": [
      "7.2\n"
     ]
    }
   ],
   "source": [
    "''' [7] get_average_count_per_sentence(file_name)\n",
    "What is the average number of words per sentence in the book?\n",
    "'''\n",
    "def get_average_count_per_sentence():\n",
    "    average = get_word_count() / get_sentence_count()\n",
    "    return average\n",
    "    # another option: word_count method. and sentence_count method\n",
    "    #return (word_count / sentence_count)\n",
    "\n",
    "#test this method\n",
    "x = get_average_count_per_sentence()\n",
    "print(x)"
   ]
  },
  {
   "cell_type": "markdown",
   "id": "4a1134c9-be0f-436c-bf58-68865b83b3b4",
   "metadata": {},
   "source": [
    "### reverse_book() returns a reversed version of the book"
   ]
  },
  {
   "cell_type": "code",
   "execution_count": 15,
   "id": "fab0af19-ae43-4e31-b67a-bfd36b0b7785",
   "metadata": {},
   "outputs": [
    {
     "name": "stdout",
     "output_type": "stream",
     "text": [
      "gnimmargorP ni nohtyp si .nuf madam gniknihT ekil a retupmoc tsitneics sevlovni gniylppa eht .cigol racecar nohtyP si looc sa a tsrif gnimmargorp egaugnal rof .sdik nohtyP si lufrewop rof bew ,gniparcs atad ,ecneics enihcam gninrael dna .IA \n",
      "<_io.TextIOWrapper name='reversed_book.txt' mode='w' encoding='cp1252'>\n"
     ]
    }
   ],
   "source": [
    "''' [8] reverse_book(file_name)\n",
    "Can you produce another book with each word of the book reversed?\n",
    "Save that book as \"reversed_book.txt\"\n",
    "'''\n",
    "    \n",
    "def reverse_book():\n",
    "    #read the file, creating a list of the words\n",
    "    word_list = get_word_list_from_file()\n",
    "    \n",
    "    reversed_book_str = ''\n",
    "    for j in word_list:\n",
    "        reversed_book_str = reversed_book_str + reverse(j) + ' '\n",
    "    print(reversed_book_str)\n",
    "    reversed_book = open(\"reversed_book.txt\", \"w\")\n",
    "    reversed_book.write(reversed_book_str)\n",
    "    reversed_book.close()\n",
    "    return reversed_book\n",
    "    \n",
    "#test this method\n",
    "x = reverse_book()\n",
    "print(x)\n",
    "#Bug: Lost empty lines, spaces, punctuation"
   ]
  },
  {
   "cell_type": "markdown",
   "id": "10081b66-b876-4fcf-8b77-85770270299c",
   "metadata": {},
   "source": [
    "### get_palindromes() returns the palindromes in the book"
   ]
  },
  {
   "cell_type": "code",
   "execution_count": 16,
   "id": "f53d209e-86a3-43aa-9245-d875ad6c7bea",
   "metadata": {},
   "outputs": [
    {
     "name": "stdout",
     "output_type": "stream",
     "text": [
      "['madam', 'racecar']\n"
     ]
    }
   ],
   "source": [
    "'''   [9] def get_palindromes(file_name)\n",
    "Are there any palindromes in the book?\n",
    "Ignore the punctuation marks and symbols while figuring out whether a word is a palindrome are not.\n",
    "This method returns the list of palindromes\n",
    "'''\n",
    "\n",
    "def get_palindromes():\n",
    "    #read the file, creating a list of the words\n",
    "    word_list = get_word_list_from_file()\n",
    "    \n",
    "    palindromes = []\n",
    "    for i in word_list:\n",
    "        #print(i.lower())\n",
    "        #print(reverse(i).lower())\n",
    "        if reverse(i).lower() == i.lower():\n",
    "            if len(i) >= 2:\n",
    "                palindromes.append(i)\n",
    "    return palindromes\n",
    "    \n",
    "#test this method\n",
    "x = get_palindromes()\n",
    "print(x)"
   ]
  },
  {
   "cell_type": "markdown",
   "id": "6c05db2f-b8d9-46cf-a093-b99cd153601d",
   "metadata": {},
   "source": [
    "### get_sentences_for_given_word() returns all the sentences that contain the given word"
   ]
  },
  {
   "cell_type": "code",
   "execution_count": 19,
   "id": "eb5eaab4-53ed-4fd2-ab95-2418c9ed71a0",
   "metadata": {},
   "outputs": [
    {
     "name": "stdout",
     "output_type": "stream",
     "text": [
      "['Programming in python is fun', '\\n\\nPython is cool as a first programming language for kids']\n"
     ]
    }
   ],
   "source": [
    "''' [10] def get_sentences_for_given_word(file_name, input_word)\n",
    "Given a word, list all the sentences in which the word is appearing?\n",
    "This method returns a list of sentences containing the input_word\n",
    "'''\n",
    "def get_sentence_for_given_word(input_word):\n",
    "    lower_input_word = input_word.lower()\n",
    "    # get the sentence list from the file\n",
    "    sentence_list = get_sentence_list_from_file()\n",
    "    mini_list = []\n",
    "    for i in sentence_list:\n",
    "        if lower_input_word in i.lower():\n",
    "            mini_list.append(i)\n",
    "    \n",
    "    return mini_list\n",
    "    \n",
    "#test this method\n",
    "x = get_sentence_for_given_word(\"Programming\")\n",
    "print(x)\n",
    "#bug: output is showing the newline characters and they need to be removed"
   ]
  },
  {
   "cell_type": "markdown",
   "id": "6ff06f98-c541-4e2a-b3bf-43d99a0b9678",
   "metadata": {},
   "source": [
    "### get_unique_word_count() returns the number of unique wrods in the book"
   ]
  },
  {
   "cell_type": "code",
   "execution_count": 20,
   "id": "ef6e5063-763f-4e08-82a9-17ac8f10ac3a",
   "metadata": {},
   "outputs": [
    {
     "name": "stdout",
     "output_type": "stream",
     "text": [
      "number of unique words =  35\n"
     ]
    }
   ],
   "source": [
    "''' [11] get_unique_word_count(file_name)\n",
    "How many unique words are there in the book?\n",
    "'''\n",
    "# option 1: build a dictionary and return the KEYS\n",
    "# option 2: construct a set and keep adding the words to the set, and return the set\n",
    "def get_unique_word_count():\n",
    "    \n",
    "    \n",
    "    #read the file, creating a list of the words\n",
    "    word_list = get_word_list_from_file()\n",
    "  \n",
    "    \n",
    "    #build dictionary\n",
    "    word_count_dict = {}\n",
    "    for i in word_list:\n",
    "        if i not in word_count_dict:\n",
    "            word_count_dict[i] = 1\n",
    "    \n",
    "    return len(word_count_dict)\n",
    "\n",
    "#testing get_unique_word_count method\n",
    "unique_word_count = get_unique_word_count()\n",
    "print('number of unique words = ', unique_word_count)"
   ]
  },
  {
   "cell_type": "code",
   "execution_count": 21,
   "id": "9cb51b7f-f01c-4be5-a2d8-6fedcfcf1806",
   "metadata": {},
   "outputs": [],
   "source": [
    "MENU = \"\"\"\n",
    "========================================================================\n",
    "1. get_top_ten_words                   2. get_sentence_count\n",
    "3. get_sentence_no_and_count_of_words  4. get_word_count_of_sentence\n",
    "5. get_word_count                      6. get_unique_words\n",
    "7. get_average_count_per_sentence      8. reverse_book\n",
    "9. get_palindromes                     10. get_sentences_for_given_word\n",
    "11. get_unique_word_count              12. Quit\n",
    "========================================================================\n",
    "\"\"\"\n",
    "\n",
    "def main():\n",
    "    #openfile()\n",
    "\n",
    "    while True:\n",
    "        print(MENU)\n",
    "        option = input(\"Please select an option: \")\n",
    "        while option not in '123456789101112':\n",
    "            print(\"Invalid input! An option must be a number beween 1 and 12\")\n",
    "            option = input(\"Please select an option: \")\n",
    "\n",
    "        option = int(option)\n",
    "        if option == 1:\n",
    "            top_ten_words = get_top_ten_words()\n",
    "            print(top_ten_words)\n",
    "        elif option == 2:\n",
    "            sentence_count = get_sentence_count()\n",
    "            print('Number of sentences = ', sentence_count)\n",
    "        elif option == 3:\n",
    "            x = get_sentence_no_and_count_of_words()\n",
    "            print(x)\n",
    "        elif option == 4:\n",
    "            sentence_number = input('Which sentence do you want the word count for: ')\n",
    "            x = get_word_count_of_sentence(int(sentence_number))\n",
    "            print(x)\n",
    "        elif option == 5:\n",
    "            x = get_word_count()\n",
    "            print('Word count: ' + str(x))\n",
    "        elif option == 6:\n",
    "            unique_words = get_unique_words()\n",
    "            print('the list of unique words = ', unique_words)\n",
    "        elif option == 7:\n",
    "            x = get_average_count_per_sentence()\n",
    "            print(x)\n",
    "        elif option == 8:\n",
    "            x = reverse_book()\n",
    "            print(x)\n",
    "        elif option == 9:\n",
    "            x = get_palindromes()\n",
    "            print(x)\n",
    "        elif option == 10:\n",
    "            input_word = input('What word do you want to search for: ')\n",
    "            x = get_sentence_for_given_word(input_word)\n",
    "            print(x)\n",
    "        elif option == 11:\n",
    "            unique_word_count = get_unique_word_count()\n",
    "            print('number of unique words = ', unique_word_count)\n",
    "        else:\n",
    "            quit()\n",
    "            break"
   ]
  },
  {
   "cell_type": "code",
   "execution_count": 22,
   "id": "105463da-f654-41e5-9d6b-55cd3ae05d70",
   "metadata": {},
   "outputs": [
    {
     "name": "stdout",
     "output_type": "stream",
     "text": [
      "\n",
      "========================================================================\n",
      "1. get_top_ten_words                   2. get_sentence_count\n",
      "3. get_sentence_no_and_count_of_words  4. get_word_count_of_sentence\n",
      "5. get_word_count                      6. get_unique_words\n",
      "7. get_average_count_per_sentence      8. reverse_book\n",
      "9. get_palindromes                     10. get_sentences_for_given_word\n",
      "11. get_unique_word_count              12. Quit\n",
      "========================================================================\n",
      "\n"
     ]
    },
    {
     "name": "stdin",
     "output_type": "stream",
     "text": [
      "Please select an option:  1\n"
     ]
    },
    {
     "name": "stdout",
     "output_type": "stream",
     "text": [
      "['is', 'a', 'Python', 'for', 'Programming', 'in', 'python', 'fun.', 'madam', 'here.']\n",
      "\n",
      "========================================================================\n",
      "1. get_top_ten_words                   2. get_sentence_count\n",
      "3. get_sentence_no_and_count_of_words  4. get_word_count_of_sentence\n",
      "5. get_word_count                      6. get_unique_words\n",
      "7. get_average_count_per_sentence      8. reverse_book\n",
      "9. get_palindromes                     10. get_sentences_for_given_word\n",
      "11. get_unique_word_count              12. Quit\n",
      "========================================================================\n",
      "\n"
     ]
    },
    {
     "name": "stdin",
     "output_type": "stream",
     "text": [
      "Please select an option:  2\n"
     ]
    },
    {
     "name": "stdout",
     "output_type": "stream",
     "text": [
      "Number of sentences =  7\n",
      "\n",
      "========================================================================\n",
      "1. get_top_ten_words                   2. get_sentence_count\n",
      "3. get_sentence_no_and_count_of_words  4. get_word_count_of_sentence\n",
      "5. get_word_count                      6. get_unique_words\n",
      "7. get_average_count_per_sentence      8. reverse_book\n",
      "9. get_palindromes                     10. get_sentences_for_given_word\n",
      "11. get_unique_word_count              12. Quit\n",
      "========================================================================\n",
      "\n"
     ]
    },
    {
     "name": "stdin",
     "output_type": "stream",
     "text": [
      "Please select an option:  3\n"
     ]
    },
    {
     "name": "stdout",
     "output_type": "stream",
     "text": [
      "[(1, 5), (2, 3), (3, 9), (4, 3), (5, 10), (6, 12), (7, 0)]\n",
      "\n",
      "========================================================================\n",
      "1. get_top_ten_words                   2. get_sentence_count\n",
      "3. get_sentence_no_and_count_of_words  4. get_word_count_of_sentence\n",
      "5. get_word_count                      6. get_unique_words\n",
      "7. get_average_count_per_sentence      8. reverse_book\n",
      "9. get_palindromes                     10. get_sentences_for_given_word\n",
      "11. get_unique_word_count              12. Quit\n",
      "========================================================================\n",
      "\n"
     ]
    },
    {
     "name": "stdin",
     "output_type": "stream",
     "text": [
      "Please select an option:  4\n",
      "Which sentence do you want the word count for:  1\n"
     ]
    },
    {
     "name": "stdout",
     "output_type": "stream",
     "text": [
      "5\n",
      "\n",
      "========================================================================\n",
      "1. get_top_ten_words                   2. get_sentence_count\n",
      "3. get_sentence_no_and_count_of_words  4. get_word_count_of_sentence\n",
      "5. get_word_count                      6. get_unique_words\n",
      "7. get_average_count_per_sentence      8. reverse_book\n",
      "9. get_palindromes                     10. get_sentences_for_given_word\n",
      "11. get_unique_word_count              12. Quit\n",
      "========================================================================\n",
      "\n"
     ]
    },
    {
     "name": "stdin",
     "output_type": "stream",
     "text": [
      "Please select an option:  5\n"
     ]
    },
    {
     "name": "stdout",
     "output_type": "stream",
     "text": [
      "Word count: 42\n",
      "\n",
      "========================================================================\n",
      "1. get_top_ten_words                   2. get_sentence_count\n",
      "3. get_sentence_no_and_count_of_words  4. get_word_count_of_sentence\n",
      "5. get_word_count                      6. get_unique_words\n",
      "7. get_average_count_per_sentence      8. reverse_book\n",
      "9. get_palindromes                     10. get_sentences_for_given_word\n",
      "11. get_unique_word_count              12. Quit\n",
      "========================================================================\n",
      "\n"
     ]
    },
    {
     "name": "stdin",
     "output_type": "stream",
     "text": [
      "Please select an option:  6\n"
     ]
    },
    {
     "name": "stdout",
     "output_type": "stream",
     "text": [
      "the list of unique words =  dict_keys(['Programming', 'in', 'python', 'is', 'fun.', 'madam', 'here.', 'Thinking', 'like', 'a', 'computer', 'scientist', 'involves', 'applying', 'the', 'logic.', 'racecar', 'there.', 'Python', 'cool', 'as', 'first', 'programming', 'language', 'for', 'kids.', 'powerful', 'web', 'scraping,', 'data', 'science,', 'machine', 'learning', 'and', 'AI.'])\n",
      "\n",
      "========================================================================\n",
      "1. get_top_ten_words                   2. get_sentence_count\n",
      "3. get_sentence_no_and_count_of_words  4. get_word_count_of_sentence\n",
      "5. get_word_count                      6. get_unique_words\n",
      "7. get_average_count_per_sentence      8. reverse_book\n",
      "9. get_palindromes                     10. get_sentences_for_given_word\n",
      "11. get_unique_word_count              12. Quit\n",
      "========================================================================\n",
      "\n"
     ]
    },
    {
     "name": "stdin",
     "output_type": "stream",
     "text": [
      "Please select an option:  7\n"
     ]
    },
    {
     "name": "stdout",
     "output_type": "stream",
     "text": [
      "6.0\n",
      "\n",
      "========================================================================\n",
      "1. get_top_ten_words                   2. get_sentence_count\n",
      "3. get_sentence_no_and_count_of_words  4. get_word_count_of_sentence\n",
      "5. get_word_count                      6. get_unique_words\n",
      "7. get_average_count_per_sentence      8. reverse_book\n",
      "9. get_palindromes                     10. get_sentences_for_given_word\n",
      "11. get_unique_word_count              12. Quit\n",
      "========================================================================\n",
      "\n"
     ]
    },
    {
     "name": "stdin",
     "output_type": "stream",
     "text": [
      "Please select an option:  8\n"
     ]
    },
    {
     "name": "stdout",
     "output_type": "stream",
     "text": [
      "gnimmargorP ni nohtyp si .nuf madam si .ereh gniknihT ekil a retupmoc tsitneics sevlovni gniylppa eht .cigol racecar si .ereht nohtyP si looc sa a tsrif gnimmargorp egaugnal rof .sdik nohtyP si lufrewop rof bew ,gniparcs atad ,ecneics enihcam gninrael dna .IA \n",
      "<_io.TextIOWrapper name='reversed_book.txt' mode='w' encoding='cp1252'>\n",
      "\n",
      "========================================================================\n",
      "1. get_top_ten_words                   2. get_sentence_count\n",
      "3. get_sentence_no_and_count_of_words  4. get_word_count_of_sentence\n",
      "5. get_word_count                      6. get_unique_words\n",
      "7. get_average_count_per_sentence      8. reverse_book\n",
      "9. get_palindromes                     10. get_sentences_for_given_word\n",
      "11. get_unique_word_count              12. Quit\n",
      "========================================================================\n",
      "\n"
     ]
    },
    {
     "name": "stdin",
     "output_type": "stream",
     "text": [
      "Please select an option:  9\n"
     ]
    },
    {
     "name": "stdout",
     "output_type": "stream",
     "text": [
      "['madam', 'racecar']\n",
      "\n",
      "========================================================================\n",
      "1. get_top_ten_words                   2. get_sentence_count\n",
      "3. get_sentence_no_and_count_of_words  4. get_word_count_of_sentence\n",
      "5. get_word_count                      6. get_unique_words\n",
      "7. get_average_count_per_sentence      8. reverse_book\n",
      "9. get_palindromes                     10. get_sentences_for_given_word\n",
      "11. get_unique_word_count              12. Quit\n",
      "========================================================================\n",
      "\n"
     ]
    },
    {
     "name": "stdin",
     "output_type": "stream",
     "text": [
      "Please select an option:  10\n",
      "What word do you want to search for:  programming\n"
     ]
    },
    {
     "name": "stdout",
     "output_type": "stream",
     "text": [
      "['Programming in python is fun', '\\n\\nPython is cool as a first programming language for kids']\n",
      "\n",
      "========================================================================\n",
      "1. get_top_ten_words                   2. get_sentence_count\n",
      "3. get_sentence_no_and_count_of_words  4. get_word_count_of_sentence\n",
      "5. get_word_count                      6. get_unique_words\n",
      "7. get_average_count_per_sentence      8. reverse_book\n",
      "9. get_palindromes                     10. get_sentences_for_given_word\n",
      "11. get_unique_word_count              12. Quit\n",
      "========================================================================\n",
      "\n"
     ]
    },
    {
     "name": "stdin",
     "output_type": "stream",
     "text": [
      "Please select an option:  11\n"
     ]
    },
    {
     "name": "stdout",
     "output_type": "stream",
     "text": [
      "number of unique words =  35\n",
      "\n",
      "========================================================================\n",
      "1. get_top_ten_words                   2. get_sentence_count\n",
      "3. get_sentence_no_and_count_of_words  4. get_word_count_of_sentence\n",
      "5. get_word_count                      6. get_unique_words\n",
      "7. get_average_count_per_sentence      8. reverse_book\n",
      "9. get_palindromes                     10. get_sentences_for_given_word\n",
      "11. get_unique_word_count              12. Quit\n",
      "========================================================================\n",
      "\n"
     ]
    },
    {
     "name": "stdin",
     "output_type": "stream",
     "text": [
      "Please select an option:  12\n"
     ]
    }
   ],
   "source": [
    "main()"
   ]
  },
  {
   "cell_type": "code",
   "execution_count": null,
   "id": "fd15217a-4083-4d29-87a8-550ff848cd46",
   "metadata": {},
   "outputs": [],
   "source": []
  }
 ],
 "metadata": {
  "kernelspec": {
   "display_name": "Python 3",
   "language": "python",
   "name": "python3"
  },
  "language_info": {
   "codemirror_mode": {
    "name": "ipython",
    "version": 3
   },
   "file_extension": ".py",
   "mimetype": "text/x-python",
   "name": "python",
   "nbconvert_exporter": "python",
   "pygments_lexer": "ipython3",
   "version": "3.8.8"
  }
 },
 "nbformat": 4,
 "nbformat_minor": 5
}
